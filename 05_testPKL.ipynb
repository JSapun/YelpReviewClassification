{
 "cells": [
  {
   "cell_type": "code",
   "execution_count": 46,
   "id": "initial_id",
   "metadata": {
    "collapsed": true,
    "ExecuteTime": {
     "end_time": "2024-05-03T04:45:13.797175400Z",
     "start_time": "2024-05-03T04:45:13.544783600Z"
    }
   },
   "outputs": [],
   "source": [
    "import pandas as pd\n",
    "import numpy as np\n",
    "from tqdm import tqdm\n",
    "import matplotlib.pyplot as plt\n",
    "\n",
    "from sklearn.model_selection import train_test_split\n",
    "from sklearn.preprocessing import StandardScaler\n",
    "from sklearn.feature_extraction.text import CountVectorizer\n",
    "from imblearn.pipeline import Pipeline\n",
    "from sklearn.ensemble import RandomForestClassifier\n",
    "from sklearn.naive_bayes import MultinomialNB\n",
    "from sklearn.tree import DecisionTreeClassifier\n",
    "from imblearn.ensemble import BalancedBaggingClassifier\n",
    "from sklearn.neighbors import KNeighborsClassifier\n",
    "from sklearn.svm import SVC\n",
    "from sklearn.metrics import classification_report\n",
    "from sklearn.metrics import confusion_matrix\n",
    "from sklearn.metrics import precision_score\n",
    "from sklearn.metrics import recall_score\n",
    "import gensim\n",
    "import nltk\n",
    "from nltk.tokenize import word_tokenize\n",
    "from sklearn.manifold import TSNE\n",
    "from sklearn.decomposition import PCA\n",
    "import seaborn as sns\n",
    "import string\n",
    "import joblib\n",
    "\n",
    "from IPython.core.interactiveshell import InteractiveShell \n",
    "InteractiveShell.ast_node_interactivity = \"all\"\n",
    "import warnings\n",
    "warnings.filterwarnings('ignore')\n",
    "\n",
    "\n",
    "mod = joblib.load('./Data/best_model.pkl')\n",
    "w2v_mod = joblib.load('./Data/w2v_model.pkl')\n",
    "data = pd.read_csv('./Data/2.5k_reviews.csv')\n",
    "stopwords = pd.read_csv(\"./Data/stop_words.csv\")\n",
    "stopwords=[i.replace('\"',\"\").strip() for i in stopwords.columns]"
   ]
  },
  {
   "cell_type": "markdown",
   "source": [
    "## Get initial impression"
   ],
   "metadata": {
    "collapsed": false
   },
   "id": "ed44fea752ab2c58"
  },
  {
   "cell_type": "code",
   "outputs": [
    {
     "name": "stdout",
     "output_type": "stream",
     "text": [
      "Fail: classified negative case wrong\n",
      "\n",
      "Sorry to say that I cannot give this place more stars, but I have dined there many times and typically have been quite pleased. This last time was definitely a disappointment, as my chicken with pesto sauce was almost tasteless and the chicken had apparently no seasoning whatsoever; I've had better packaged frozen food!Perhaps the chef(?) was preoccupied with the large(20+) party in the adjoining room.....a poor excuse at best.....\n"
     ]
    }
   ],
   "source": [
    "test_case = data.sample(1)\n",
    "\n",
    "# feature engineering\n",
    "def preprocess(text):\n",
    "    text = text.lower()\n",
    "    text = ''.join([word for word in text if word not in string.punctuation])\n",
    "    tokens = word_tokenize(text)\n",
    "    tokens = [word for word in tokens if word not in stopwords]\n",
    "    return ' '.join(tokens)\n",
    "\n",
    "X = test_case.review.apply(preprocess)\n",
    "sentences = [sentence.split() for sentence in X]\n",
    "\n",
    "w2v_model = gensim.models.Word2Vec(workers=4,min_count=5, window=2, vector_size=100, sample=5e-5, alpha=0.04, min_alpha=0.0002, negative=10)\n",
    "def vectorize(sentence):\n",
    "    words = sentence.split()\n",
    "    words_vecs = [w2v_model.wv[word] for word in words if word in w2v_model.wv]\n",
    "    if len(words_vecs) == 0:\n",
    "        return np.zeros(100)\n",
    "    words_vecs = np.array(words_vecs)\n",
    "    return words_vecs.mean(axis=0)\n",
    "w = np.array([vectorize(sentence) for sentence in X])\n",
    "\n",
    "new_X = w\n",
    "new_y = test_case.sentiment.values\n",
    "\n",
    "y_new_pred_rf = mod.predict(new_X)\n",
    "if y_new_pred_rf == new_y:\n",
    "    print(\"Classified \"+(\"positive\" if y_new_pred_rf is 1 else \"negative\")+\" case correctly!\\n\")\n",
    "    print(test_case.review.values[0])\n",
    "else:\n",
    "    print(\"Fail: classified \"+(\"positive\" if y_new_pred_rf is 1 else \"negative\")+\" case wrong\\n\")\n",
    "    print(test_case.review.values[0])"
   ],
   "metadata": {
    "collapsed": false,
    "ExecuteTime": {
     "end_time": "2024-05-03T04:19:18.496952200Z",
     "start_time": "2024-05-03T04:19:18.441130700Z"
    }
   },
   "id": "f19ad44c32316a03",
   "execution_count": 7
  },
  {
   "cell_type": "code",
   "outputs": [
    {
     "name": "stdout",
     "output_type": "stream",
     "text": [
      "[0]\n",
      "[1]\n"
     ]
    }
   ],
   "source": [
    "print(y_new_pred_rf) # negative\n",
    "print(new_y) # positive ??"
   ],
   "metadata": {
    "collapsed": false,
    "ExecuteTime": {
     "end_time": "2024-05-03T04:23:57.721223Z",
     "start_time": "2024-05-03T04:23:57.718715800Z"
    }
   },
   "id": "8846289d117debe9",
   "execution_count": 14
  },
  {
   "cell_type": "markdown",
   "source": [
    "## Get average values"
   ],
   "metadata": {
    "collapsed": false
   },
   "id": "efc0bd33f28ddaff"
  },
  {
   "cell_type": "code",
   "outputs": [],
   "source": [
    "# Testing model on random sample from dataframe\n",
    "\n",
    "def predictNonLinear(model, N=100):\n",
    "    test_case = data.sample(N)\n",
    "    \n",
    "    # feature engineering\n",
    "    def preprocess(text):\n",
    "        text = text.lower()\n",
    "        text = ''.join([word for word in text if word not in string.punctuation])\n",
    "        tokens = word_tokenize(text)\n",
    "        tokens = [word for word in tokens if word not in stopwords]\n",
    "        return ' '.join(tokens)\n",
    "    \n",
    "    X = test_case.review.apply(preprocess)\n",
    "    \n",
    "    def vectorize(sentence):\n",
    "        words = sentence.split()\n",
    "        words_vecs = [w2v_mod.wv[word] for word in words if word in w2v_mod.wv]\n",
    "        if len(words_vecs) == 0:\n",
    "            return np.zeros(100)\n",
    "        words_vecs = np.array(words_vecs)\n",
    "        return words_vecs.mean(axis=0)\n",
    "    w = np.array([vectorize(sentence) for sentence in X])\n",
    "    \n",
    "    new_X = w\n",
    "    new_y = test_case.sentiment.values\n",
    "    \n",
    "    y_new_pred_rf = mod.predict(new_X)\n",
    "    y_pred_report = classification_report(new_y,y_new_pred_rf, output_dict=True)\n",
    "    \n",
    "    return (y_pred_report[\"0\"][\"precision\"],y_pred_report[\"0\"][\"recall\"],\n",
    "            y_pred_report[\"1\"][\"precision\"],y_pred_report[\"1\"][\"recall\"])"
   ],
   "metadata": {
    "collapsed": false,
    "ExecuteTime": {
     "end_time": "2024-05-03T04:46:24.473851400Z",
     "start_time": "2024-05-03T04:46:24.467881800Z"
    }
   },
   "id": "193387334d26a94c",
   "execution_count": 55
  },
  {
   "cell_type": "code",
   "outputs": [
    {
     "data": {
      "text/plain": "(0.75, 1.0, 1.0, 0.8571428571428571)"
     },
     "execution_count": 56,
     "metadata": {},
     "output_type": "execute_result"
    }
   ],
   "source": [
    "predictNonLinear(mod, 10)"
   ],
   "metadata": {
    "collapsed": false,
    "ExecuteTime": {
     "end_time": "2024-05-03T04:46:24.865628500Z",
     "start_time": "2024-05-03T04:46:24.814853100Z"
    }
   },
   "id": "6fd55289810d2855",
   "execution_count": 56
  },
  {
   "cell_type": "code",
   "outputs": [
    {
     "name": "stdout",
     "output_type": "stream",
     "text": [
      "Average Precision (0): 0.6058750804742254; Average Recall (0): 0.9766755814658181\n",
      "Average Precision (1): 0.9873315302036992; Average Recall (1): 0.7378452622874492\n"
     ]
    }
   ],
   "source": [
    "# Get average values\n",
    "nums = 20\n",
    "avg_p0 = 0\n",
    "avg_r0 = 0\n",
    "avg_p1 = 0\n",
    "avg_r1 = 0\n",
    "for i in range(nums):\n",
    "    p0,r0,p1,r1 = predictNonLinear(mod, 150)\n",
    "    avg_p0 += p0\n",
    "    avg_r0 += r0\n",
    "    avg_p1 += p1\n",
    "    avg_r1 += r1\n",
    "\n",
    "avg_p0 = avg_p0/nums\n",
    "avg_r0 = avg_r0/nums\n",
    "avg_p1 = avg_p1/nums\n",
    "avg_r1 = avg_r1/nums\n",
    "print(\"Average Precision (0): \"+str(avg_p0)+\"; Average Recall (0): \"+str(avg_r0))\n",
    "print(\"Average Precision (1): \"+str(avg_p1)+\"; Average Recall (1): \"+str(avg_r1))"
   ],
   "metadata": {
    "collapsed": false,
    "ExecuteTime": {
     "end_time": "2024-05-03T04:50:11.635649400Z",
     "start_time": "2024-05-03T04:50:08.616821800Z"
    }
   },
   "id": "b1f3bf6e83b22a6f",
   "execution_count": 83
  }
 ],
 "metadata": {
  "kernelspec": {
   "display_name": "Python 3",
   "language": "python",
   "name": "python3"
  },
  "language_info": {
   "codemirror_mode": {
    "name": "ipython",
    "version": 2
   },
   "file_extension": ".py",
   "mimetype": "text/x-python",
   "name": "python",
   "nbconvert_exporter": "python",
   "pygments_lexer": "ipython2",
   "version": "2.7.6"
  }
 },
 "nbformat": 4,
 "nbformat_minor": 5
}
