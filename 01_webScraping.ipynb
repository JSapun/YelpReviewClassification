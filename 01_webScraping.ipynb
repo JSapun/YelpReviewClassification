{
 "cells": [
  {
   "cell_type": "code",
   "execution_count": 183,
   "id": "initial_id",
   "metadata": {
    "collapsed": true,
    "ExecuteTime": {
     "end_time": "2024-04-02T04:21:00.664948600Z",
     "start_time": "2024-04-02T04:21:00.652945600Z"
    }
   },
   "outputs": [],
   "source": [
    "import json\n",
    "import httpx\n",
    "from parsel import Selector\n",
    "import pandas as pd\n",
    "from tqdm import tqdm\n",
    "from bs4 import BeautifulSoup\n",
    "import re\n",
    "from IPython.core.interactiveshell import InteractiveShell \n",
    "InteractiveShell.ast_node_interactivity = \"all\""
   ]
  },
  {
   "cell_type": "code",
   "outputs": [],
   "source": [
    "def review_and_ratings(url):\n",
    "    with httpx.Client(http2=True, follow_redirects=True) as client:\n",
    "        resp = client.get(url)\n",
    "    sel = Selector(text=resp.text)\n",
    "    \n",
    "    selected_reviews = sel.xpath(r'//span[@class=\" raw__09f24__T4Ezm\"]').getall()\n",
    "    selected_ratings = sel.xpath(r'//div[@class=\"yelp-emotion-9tnml4\"]').getall() # Changed from css-14g69b3 -- 05/02/2024\n",
    "    \n",
    "    selected_reviews = selected_reviews[4:] # Get 11 reviews per page\n",
    "    new_len = len(selected_reviews)\n",
    "    selected_ratings = selected_ratings[2:new_len+2]\n",
    "    return selected_reviews, selected_ratings"
   ],
   "metadata": {
    "collapsed": false,
    "ExecuteTime": {
     "end_time": "2024-04-02T04:47:29.532020400Z",
     "start_time": "2024-04-02T04:47:29.522709900Z"
    }
   },
   "id": "42a1fe5cbd3eb810",
   "execution_count": 253
  },
  {
   "cell_type": "code",
   "outputs": [],
   "source": [
    "def get_all_biz(url, stop):\n",
    "    reviews = []\n",
    "    ratings = []\n",
    "    for i in range(0,stop*10,10):\n",
    "        rev,rat = review_and_ratings(url+str(i))\n",
    "        reviews += rev\n",
    "        ratings += rat\n",
    "    return reviews, ratings"
   ],
   "metadata": {
    "collapsed": false,
    "ExecuteTime": {
     "end_time": "2024-04-02T05:07:03.168309900Z",
     "start_time": "2024-04-02T05:07:03.145301300Z"
    }
   },
   "id": "c476d4d5614e1518",
   "execution_count": 269
  },
  {
   "cell_type": "code",
   "outputs": [
    {
     "name": "stderr",
     "output_type": "stream",
     "text": [
      "100%|██████████| 5/5 [00:16<00:00,  3.21s/it]\n"
     ]
    }
   ],
   "source": [
    "# Test for GB eats\n",
    "rev,rat = get_all_biz(\"https://www.yelp.com/biz/gb-eats-great-barrington?start=\", 2)"
   ],
   "metadata": {
    "collapsed": false,
    "ExecuteTime": {
     "end_time": "2024-04-02T04:48:04.813391400Z",
     "start_time": "2024-04-02T04:47:48.734295900Z"
    }
   },
   "id": "b2952c19f1ff51e4",
   "execution_count": 256
  },
  {
   "cell_type": "code",
   "outputs": [],
   "source": [
    "# Goal is 7000, aprx 2.5k\n",
    "starter_urls = [(\"https://www.yelp.com/biz/gb-eats-great-barrington?start=\", 17),\n",
    "                (\"https://www.yelp.com/biz/baba-louies-sourdough-pizza-great-barrington-3?start=\", 35),\n",
    "                (\"https://www.yelp.com/biz/soco-creamery-great-barrington?start=\", 19),\n",
    "                (\"https://www.yelp.com/biz/rio-cafe-great-barrington?start=\", 7),\n",
    "                (\"https://www.yelp.com/biz/prairie-whale-great-barrington?osq=Restaurants&start=\", 35),\n",
    "                (\"https://www.yelp.com/biz/the-well-great-barrington?osq=Restaurants&start=\", 11),\n",
    "                (\"https://www.yelp.com/biz/aegean-breeze-restaurant-great-barrington-2?osq=Restaurants&start=\", 20),\n",
    "                (\"https://www.yelp.com/biz/the-bistro-box-great-barrington?osq=Restaurants&start=\", 18),\n",
    "                (\"https://www.yelp.com/biz/marketplace-kitchen-table-great-barrington?osq=Restaurants&start=\", 11),\n",
    "                (\"https://www.yelp.com/biz/barrington-brewery-and-restaurant-great-barrington?osq=Restaurants&start=\", 39),\n",
    "                (\"https://www.yelp.com/biz/xicohtencatl-great-barrington?osq=Restaurants&start=\", 29),\n",
    "                (\"https://www.yelp.com/biz/pleasant-and-main-housatonic?osq=Restaurants&start=\", 21)]"
   ],
   "metadata": {
    "collapsed": false,
    "ExecuteTime": {
     "end_time": "2024-04-02T05:01:26.810305900Z",
     "start_time": "2024-04-02T05:01:26.802548400Z"
    }
   },
   "id": "acbe5e4748cb5dc4",
   "execution_count": 260
  },
  {
   "cell_type": "code",
   "outputs": [],
   "source": [
    "def get_all(urls=starter_urls):\n",
    "    reviews = []\n",
    "    ratings = []\n",
    "    for item in tqdm(urls):\n",
    "        url,stop = item\n",
    "        try:\n",
    "            rev,rat = get_all_biz(url, stop)\n",
    "        except:\n",
    "            print(\"Failed at: \"+url)\n",
    "            return reviews, ratings\n",
    "        if len(rev) != len(rat):\n",
    "            print(\"Error!!!\")\n",
    "            exit()\n",
    "        reviews += rev\n",
    "        ratings += rat\n",
    "    return reviews, ratings"
   ],
   "metadata": {
    "collapsed": false,
    "ExecuteTime": {
     "end_time": "2024-04-02T05:07:04.839948300Z",
     "start_time": "2024-04-02T05:07:04.834945400Z"
    }
   },
   "id": "1d0c22c0d63cb4a8",
   "execution_count": 270
  },
  {
   "cell_type": "code",
   "outputs": [
    {
     "name": "stderr",
     "output_type": "stream",
     "text": [
      "100%|██████████| 12/12 [12:46<00:00, 63.92s/it]\n"
     ]
    }
   ],
   "source": [
    "rev,rat = get_all()"
   ],
   "metadata": {
    "collapsed": false,
    "ExecuteTime": {
     "end_time": "2024-04-02T05:20:27.732501400Z",
     "start_time": "2024-04-02T05:07:40.727480200Z"
    }
   },
   "id": "888cd95dd8b7c472",
   "execution_count": 272
  },
  {
   "cell_type": "code",
   "outputs": [],
   "source": [
    "def extract_text_from_html(html_string):\n",
    "    soup = BeautifulSoup(html_string, 'html.parser')\n",
    "    text = soup.text.strip()\n",
    "    return text\n",
    "\n",
    "def extract_rating_from_html(html_string):\n",
    "    rating_regex = r'aria-label=\"(\\d+(?:\\.\\d+)?)\\sstar\\srating\"'\n",
    "    text = re.findall(rating_regex, html_string)\n",
    "    return text"
   ],
   "metadata": {
    "collapsed": false,
    "ExecuteTime": {
     "end_time": "2024-04-02T05:45:20.112710400Z",
     "start_time": "2024-04-02T05:45:20.101380200Z"
    }
   },
   "id": "130c6f74ed2891d2",
   "execution_count": 308
  },
  {
   "cell_type": "code",
   "outputs": [],
   "source": [
    "reviews = []\n",
    "ratings = []\n",
    "sentiment = []\n",
    "for i in range(len(rev)):\n",
    "    star = extract_rating_from_html(rat[i])\n",
    "    if star is not None:\n",
    "        reviews.append(extract_text_from_html(rev[i]))\n",
    "        ratings.append(float(star[0]))\n",
    "        if float(star[0]) > 3.0:\n",
    "            sentiment.append(1)\n",
    "        else:\n",
    "            sentiment.append(0)\n",
    "        \n",
    "#reviews = [extract_text_from_html(x) for x in rev]\n",
    "#ratings = [extract_rating_from_html(x) for x in rat]"
   ],
   "metadata": {
    "collapsed": false,
    "ExecuteTime": {
     "end_time": "2024-04-02T05:54:20.565688800Z",
     "start_time": "2024-04-02T05:54:20.411656Z"
    }
   },
   "id": "8a343ed734bc633f",
   "execution_count": 321
  },
  {
   "cell_type": "code",
   "outputs": [],
   "source": [
    "save_df = pd.DataFrame(data={'review': reviews, 'rating': ratings, 'sentiment': sentiment}) # 1 for positive, 0 for negative"
   ],
   "metadata": {
    "collapsed": false,
    "ExecuteTime": {
     "end_time": "2024-04-02T05:54:22.087385200Z",
     "start_time": "2024-04-02T05:54:22.081486Z"
    }
   },
   "id": "a7f7baaf5c4f6b8",
   "execution_count": 322
  },
  {
   "cell_type": "code",
   "outputs": [],
   "source": [
    "save_df.to_csv(\"./Data/2.5k_reviews.csv\", index=False)"
   ],
   "metadata": {
    "collapsed": false,
    "ExecuteTime": {
     "end_time": "2024-04-02T05:54:23.385535400Z",
     "start_time": "2024-04-02T05:54:23.349693800Z"
    }
   },
   "id": "c60452ecdb58f4de",
   "execution_count": 323
  }
 ],
 "metadata": {
  "kernelspec": {
   "display_name": "Python 3",
   "language": "python",
   "name": "python3"
  },
  "language_info": {
   "codemirror_mode": {
    "name": "ipython",
    "version": 2
   },
   "file_extension": ".py",
   "mimetype": "text/x-python",
   "name": "python",
   "nbconvert_exporter": "python",
   "pygments_lexer": "ipython2",
   "version": "2.7.6"
  }
 },
 "nbformat": 4,
 "nbformat_minor": 5
}
