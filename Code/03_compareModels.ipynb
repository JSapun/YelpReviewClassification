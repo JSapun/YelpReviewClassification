{
 "cells": [
  {
   "cell_type": "markdown",
   "source": [
    "## Cross Validation"
   ],
   "metadata": {
    "collapsed": false
   },
   "id": "7c542b6d5ea35e44"
  },
  {
   "cell_type": "code",
   "execution_count": 142,
   "id": "initial_id",
   "metadata": {
    "collapsed": true,
    "ExecuteTime": {
     "end_time": "2024-05-03T08:08:37.576357500Z",
     "start_time": "2024-05-03T08:08:37.431199700Z"
    }
   },
   "outputs": [],
   "source": [
    "import pandas as pd\n",
    "import numpy as np\n",
    "from tqdm import tqdm\n",
    "import matplotlib.pyplot as plt\n",
    "\n",
    "from sklearn.model_selection import train_test_split\n",
    "from sklearn.preprocessing import StandardScaler\n",
    "from sklearn.feature_extraction.text import CountVectorizer\n",
    "from imblearn.pipeline import Pipeline\n",
    "from sklearn.model_selection import RandomizedSearchCV\n",
    "from sklearn.linear_model import LogisticRegression\n",
    "from sklearn.ensemble import RandomForestClassifier\n",
    "from sklearn.naive_bayes import MultinomialNB\n",
    "from sklearn.tree import DecisionTreeClassifier\n",
    "from imblearn.ensemble import BalancedBaggingClassifier\n",
    "from sklearn.neighbors import KNeighborsClassifier\n",
    "from sklearn.svm import SVC\n",
    "from sklearn.metrics import classification_report\n",
    "from sklearn.metrics import precision_score\n",
    "from sklearn.metrics import recall_score\n",
    "import ast\n",
    "import dataframe_image as dfi\n",
    "\n",
    "from IPython.core.interactiveshell import InteractiveShell \n",
    "InteractiveShell.ast_node_interactivity = \"all\"\n",
    "import warnings\n",
    "warnings.filterwarnings('ignore')\n",
    "\n",
    "w = pd.read_csv(\"./Data/vectorizedWords.csv\").to_numpy()\n",
    "df = pd.read_csv(\"./Data/2.5k_reviews.csv\")"
   ]
  },
  {
   "cell_type": "markdown",
   "source": [
    "### Put vectorization into df as it was saved seperately"
   ],
   "metadata": {
    "collapsed": false
   },
   "id": "e51e20220f73042"
  },
  {
   "cell_type": "code",
   "outputs": [],
   "source": [
    "df[\"vectorization\"] = [i for i in w]"
   ],
   "metadata": {
    "collapsed": false,
    "ExecuteTime": {
     "end_time": "2024-05-03T08:08:37.588239600Z",
     "start_time": "2024-05-03T08:08:37.585229400Z"
    }
   },
   "id": "acd62b5f5ee33876",
   "execution_count": 143
  },
  {
   "cell_type": "markdown",
   "source": [
    "### Data is unbalanced"
   ],
   "metadata": {
    "collapsed": false
   },
   "id": "2d9db3e251bb5b99"
  },
  {
   "cell_type": "code",
   "outputs": [
    {
     "name": "stdout",
     "output_type": "stream",
     "text": [
      "Number of negative reviews: 701; Number of positive reviews: 561\n"
     ]
    }
   ],
   "source": [
    "num0s = df.sentiment.value_counts()[0] # Get number of 0s (negative reviews)\n",
    "subset_index = df[df.sentiment == 1].sample(int(df.shape[0] - num0s*1.8)).index\n",
    "subset = df.drop(subset_index).reset_index(drop=True)\n",
    "print(\"Number of negative reviews: \"+str(len(subset)-subset.sentiment.sum())+\"; Number of positive reviews: \"+str(subset.sentiment.sum()))"
   ],
   "metadata": {
    "collapsed": false,
    "ExecuteTime": {
     "end_time": "2024-05-03T08:08:37.616464Z",
     "start_time": "2024-05-03T08:08:37.590226300Z"
    }
   },
   "id": "b2ec00d0bcd3e518",
   "execution_count": 144
  },
  {
   "cell_type": "markdown",
   "source": [
    "### Train"
   ],
   "metadata": {
    "collapsed": false
   },
   "id": "36e3846aba608608"
  },
  {
   "cell_type": "code",
   "outputs": [],
   "source": [
    "y = subset.sentiment.values\n",
    "X = subset.vectorization.values"
   ],
   "metadata": {
    "collapsed": false,
    "ExecuteTime": {
     "end_time": "2024-05-03T08:08:37.656470400Z",
     "start_time": "2024-05-03T08:08:37.610245500Z"
    }
   },
   "id": "6c484b786722c289",
   "execution_count": 145
  },
  {
   "cell_type": "code",
   "outputs": [],
   "source": [
    "X_train, X_test, y_train, y_test = train_test_split(X,y, test_size = 0.20, random_state=1)"
   ],
   "metadata": {
    "collapsed": false,
    "ExecuteTime": {
     "end_time": "2024-05-03T08:08:37.657469Z",
     "start_time": "2024-05-03T08:08:37.617857900Z"
    }
   },
   "id": "75ba46979b41a456",
   "execution_count": 146
  },
  {
   "cell_type": "code",
   "outputs": [],
   "source": [
    "X_train = np.stack(X_train, axis=0) # Expand the array for model\n",
    "X_test = np.stack(X_test, axis=0)"
   ],
   "metadata": {
    "collapsed": false,
    "ExecuteTime": {
     "end_time": "2024-05-03T08:08:37.657469Z",
     "start_time": "2024-05-03T08:08:37.628735800Z"
    }
   },
   "id": "e3352e5538e6cce9",
   "execution_count": 147
  },
  {
   "cell_type": "code",
   "outputs": [],
   "source": [
    "# Create the random grid\n",
    "lr_random_grid = {'max_iter' : range(100, 500),\n",
    "                  'warm_start' : [True, False],\n",
    "                  'solver' : ['lbfgs', 'newton-cg', 'liblinear'],\n",
    "                  'C' : np.arange(0, 1, 0.01)}\n",
    "rf_random_grid = {'n_estimators': [int(x) for x in np.linspace(start = 20, stop = 1000, num = 10)],\n",
    "                  'max_features': ['auto', 'sqrt'],\n",
    "                  'max_depth': [5,8,10,15],\n",
    "                  'min_samples_split': [2, 5, 10],\n",
    "                  'min_samples_leaf': [1, 2, 4],\n",
    "                  'bootstrap': [True, False]}\n",
    "knn_random_grid = {'n_neighbors': [3,5,7,9],\n",
    "                   'metric':['euclidean', 'manhattan', 'minkowski'],\n",
    "                   'weights': ['uniform', 'distance'],\n",
    "                   'algorithm': ['auto' , 'ball_tree' , 'kd_tree' ,'brute']}"
   ],
   "metadata": {
    "collapsed": false,
    "ExecuteTime": {
     "end_time": "2024-05-03T08:08:37.675716700Z",
     "start_time": "2024-05-03T08:08:37.641739600Z"
    }
   },
   "id": "4f31efa8f4a348b7",
   "execution_count": 148
  },
  {
   "cell_type": "code",
   "outputs": [
    {
     "name": "stdout",
     "output_type": "stream",
     "text": [
      "Done LR\n",
      "Done RF\n",
      "Done KNN\n"
     ]
    }
   ],
   "source": [
    "## Logistic Regression --\n",
    "pipeline_lr = LogisticRegression()\n",
    "pipeline_lr = RandomizedSearchCV(estimator = pipeline_lr, param_distributions = lr_random_grid, \n",
    "                                 n_iter = 100, cv = 3, verbose=False, random_state=42, n_jobs = -1)\n",
    "pipeline_lr = pipeline_lr.fit(X_train, y_train)\n",
    "y_pred_train_lr = pipeline_lr.predict(X_train)\n",
    "y_pred_test_lr = pipeline_lr.predict(X_test)\n",
    "print(\"Done LR\")\n",
    "\n",
    "## Random Forest ---\n",
    "pipeline_rf = RandomForestClassifier(criterion=\"entropy\")\n",
    "pipeline_rf = RandomizedSearchCV(estimator = pipeline_rf, param_distributions = rf_random_grid, \n",
    "                                 n_iter = 100, cv = 3, verbose=False, random_state=42, n_jobs = -1)\n",
    "pipeline_rf = pipeline_rf.fit(X_train, y_train)\n",
    "y_pred_train_rf = pipeline_rf.predict(X_train)\n",
    "y_pred_test_rf = pipeline_rf.predict(X_test)\n",
    "print(\"Done RF\")\n",
    "\n",
    "## KNN -- \n",
    "pipeline_knn = KNeighborsClassifier(n_neighbors=3, metric=\"euclidean\")\n",
    "pipeline_knn = RandomizedSearchCV(estimator = pipeline_knn, param_distributions = knn_random_grid, \n",
    "                                 n_iter = 100, cv = 3, verbose=False, random_state=42, n_jobs = -1)\n",
    "pipeline_knn = pipeline_knn.fit(X_train, y_train)\n",
    "y_pred_train_knn = pipeline_knn.predict(X_train)\n",
    "y_pred_test_knn = pipeline_knn.predict(X_test)\n",
    "print(\"Done KNN\")\n",
    "# 5 mins"
   ],
   "metadata": {
    "collapsed": false,
    "ExecuteTime": {
     "end_time": "2024-05-03T08:10:42.310113900Z",
     "start_time": "2024-05-03T08:08:37.644810800Z"
    }
   },
   "id": "82bf3e4996890330",
   "execution_count": 149
  },
  {
   "cell_type": "code",
   "outputs": [
    {
     "data": {
      "text/plain": "{'n_estimators': 891,\n 'min_samples_split': 5,\n 'min_samples_leaf': 4,\n 'max_features': 'sqrt',\n 'max_depth': 5,\n 'bootstrap': True}"
     },
     "execution_count": 150,
     "metadata": {},
     "output_type": "execute_result"
    }
   ],
   "source": [
    "pipeline_rf.best_params_"
   ],
   "metadata": {
    "collapsed": false,
    "ExecuteTime": {
     "end_time": "2024-05-03T08:10:42.316781200Z",
     "start_time": "2024-05-03T08:10:42.311622100Z"
    }
   },
   "id": "120bbfbf5d9ed87b",
   "execution_count": 150
  },
  {
   "cell_type": "code",
   "outputs": [],
   "source": [
    "# Classification Report for Recall & Precision\n",
    "lr_report_train = classification_report(y_train,y_pred_train_lr, output_dict=True)\n",
    "lr_report_test = classification_report(y_test,y_pred_test_lr, output_dict=True)\n",
    "rf_report_train = classification_report(y_train,y_pred_train_rf, output_dict=True)\n",
    "rf_report_test = classification_report(y_test,y_pred_test_rf, output_dict=True)\n",
    "knn_report_train = classification_report(y_train,y_pred_train_knn, output_dict=True)\n",
    "knn_report_test = classification_report(y_test,y_pred_test_knn, output_dict=True)\n",
    "\n",
    "lr_train_stuff = [lr_report_train[\"0\"][\"precision\"],lr_report_train[\"0\"][\"recall\"],\n",
    "                  lr_report_train[\"1\"][\"precision\"],lr_report_train[\"1\"][\"recall\"]]\n",
    "lr_test_stuff = [lr_report_test[\"0\"][\"precision\"],lr_report_test[\"0\"][\"recall\"],\n",
    "                 lr_report_test[\"1\"][\"precision\"],lr_report_test[\"1\"][\"recall\"]]\n",
    "rf_train_stuff = [rf_report_train[\"0\"][\"precision\"],rf_report_train[\"0\"][\"recall\"],\n",
    "                  rf_report_train[\"1\"][\"precision\"],rf_report_train[\"1\"][\"recall\"]]\n",
    "rf_test_stuff = [rf_report_test[\"0\"][\"precision\"],rf_report_test[\"0\"][\"recall\"],\n",
    "                 rf_report_test[\"1\"][\"precision\"],rf_report_test[\"1\"][\"recall\"]]\n",
    "knn_train_stuff = [knn_report_train[\"0\"][\"precision\"],knn_report_train[\"0\"][\"recall\"],\n",
    "                   knn_report_train[\"1\"][\"precision\"],knn_report_train[\"1\"][\"recall\"]]\n",
    "knn_test_stuff = [knn_report_test[\"0\"][\"precision\"],knn_report_test[\"0\"][\"recall\"],\n",
    "                  knn_report_test[\"1\"][\"precision\"],knn_report_test[\"1\"][\"recall\"]]\n",
    "\n",
    "index = [\"LR_train\",\"LR_test\",\"RF_train\",\"RF_test\",\"KNN_train\",\"KNN_test\"]\n",
    "columns =  [\"Precision - 0\",\"Recall - 0\", \"Precision - 1\",\"Recall - 1\"]\n",
    "result = pd.DataFrame([lr_train_stuff,lr_test_stuff,rf_train_stuff,rf_test_stuff,knn_train_stuff,knn_test_stuff], index, columns)"
   ],
   "metadata": {
    "collapsed": false,
    "ExecuteTime": {
     "end_time": "2024-05-03T08:10:42.366024900Z",
     "start_time": "2024-05-03T08:10:42.322880Z"
    }
   },
   "id": "93db23edae7e985e",
   "execution_count": 151
  },
  {
   "cell_type": "code",
   "outputs": [
    {
     "data": {
      "text/plain": "           Precision - 0  Recall - 0  Precision - 1  Recall - 1\nLR_train        0.734761    0.789381       0.703980    0.637387\nLR_test         0.693333    0.764706       0.689320    0.606838\nRF_train        0.830450    0.849558       0.802784    0.779279\nRF_test         0.705882    0.705882       0.658120    0.658120\nKNN_train       0.750422    0.787611       0.711538    0.666667\nKNN_test        0.675862    0.720588       0.648148    0.598291",
      "text/html": "<div>\n<style scoped>\n    .dataframe tbody tr th:only-of-type {\n        vertical-align: middle;\n    }\n\n    .dataframe tbody tr th {\n        vertical-align: top;\n    }\n\n    .dataframe thead th {\n        text-align: right;\n    }\n</style>\n<table border=\"1\" class=\"dataframe\">\n  <thead>\n    <tr style=\"text-align: right;\">\n      <th></th>\n      <th>Precision - 0</th>\n      <th>Recall - 0</th>\n      <th>Precision - 1</th>\n      <th>Recall - 1</th>\n    </tr>\n  </thead>\n  <tbody>\n    <tr>\n      <th>LR_train</th>\n      <td>0.734761</td>\n      <td>0.789381</td>\n      <td>0.703980</td>\n      <td>0.637387</td>\n    </tr>\n    <tr>\n      <th>LR_test</th>\n      <td>0.693333</td>\n      <td>0.764706</td>\n      <td>0.689320</td>\n      <td>0.606838</td>\n    </tr>\n    <tr>\n      <th>RF_train</th>\n      <td>0.830450</td>\n      <td>0.849558</td>\n      <td>0.802784</td>\n      <td>0.779279</td>\n    </tr>\n    <tr>\n      <th>RF_test</th>\n      <td>0.705882</td>\n      <td>0.705882</td>\n      <td>0.658120</td>\n      <td>0.658120</td>\n    </tr>\n    <tr>\n      <th>KNN_train</th>\n      <td>0.750422</td>\n      <td>0.787611</td>\n      <td>0.711538</td>\n      <td>0.666667</td>\n    </tr>\n    <tr>\n      <th>KNN_test</th>\n      <td>0.675862</td>\n      <td>0.720588</td>\n      <td>0.648148</td>\n      <td>0.598291</td>\n    </tr>\n  </tbody>\n</table>\n</div>"
     },
     "execution_count": 152,
     "metadata": {},
     "output_type": "execute_result"
    }
   ],
   "source": [
    "result\n",
    "# 1 for positive, 0 for negative, negative is 3 stars or less"
   ],
   "metadata": {
    "collapsed": false,
    "ExecuteTime": {
     "end_time": "2024-05-03T08:10:42.374227Z",
     "start_time": "2024-05-03T08:10:42.358789Z"
    }
   },
   "id": "7748f25ae8eb4245",
   "execution_count": 152
  },
  {
   "cell_type": "code",
   "outputs": [],
   "source": [
    "dfi.export(result.style,'./Results/crossValidationModels.png')"
   ],
   "metadata": {
    "collapsed": false,
    "ExecuteTime": {
     "end_time": "2024-05-03T08:10:44.312991500Z",
     "start_time": "2024-05-03T08:10:42.374227Z"
    }
   },
   "id": "f9fa39ebf33da3aa",
   "execution_count": 153
  }
 ],
 "metadata": {
  "kernelspec": {
   "display_name": "Python 3",
   "language": "python",
   "name": "python3"
  },
  "language_info": {
   "codemirror_mode": {
    "name": "ipython",
    "version": 2
   },
   "file_extension": ".py",
   "mimetype": "text/x-python",
   "name": "python",
   "nbconvert_exporter": "python",
   "pygments_lexer": "ipython2",
   "version": "2.7.6"
  }
 },
 "nbformat": 4,
 "nbformat_minor": 5
}
