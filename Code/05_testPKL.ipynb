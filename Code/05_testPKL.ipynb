{
 "cells": [
  {
   "cell_type": "markdown",
   "source": [
    "# This file runs and tests the Random Forest pkl model"
   ],
   "metadata": {
    "collapsed": false
   },
   "id": "e7e348d33752efc2"
  },
  {
   "cell_type": "code",
   "execution_count": 79,
   "id": "initial_id",
   "metadata": {
    "collapsed": true,
    "ExecuteTime": {
     "end_time": "2024-05-04T21:52:37.341457900Z",
     "start_time": "2024-05-04T21:52:37.169178100Z"
    }
   },
   "outputs": [],
   "source": [
    "import pandas as pd\n",
    "import numpy as np\n",
    "import joblib\n",
    "import gensim\n",
    "from nltk.tokenize import word_tokenize\n",
    "import string\n",
    "from sklearn.metrics import classification_report\n",
    "import dataframe_image as dfi\n",
    "\n",
    "from IPython.core.interactiveshell import InteractiveShell \n",
    "InteractiveShell.ast_node_interactivity = \"all\"\n",
    "import warnings\n",
    "warnings.filterwarnings('ignore')\n",
    "\n",
    "mod = joblib.load('../Data/best_model.pkl')\n",
    "w2v_mod = joblib.load('../Data/w2v_model.pkl')\n",
    "data = pd.read_csv('../Data/2.5k_reviews.csv')\n",
    "stopwords = list(pd.read_csv(\"../Data/stop_words.csv\")[\"words\"]) "
   ]
  },
  {
   "cell_type": "markdown",
   "source": [
    "## 1.) Get initial impression with one sample"
   ],
   "metadata": {
    "collapsed": false
   },
   "id": "ed44fea752ab2c58"
  },
  {
   "cell_type": "code",
   "outputs": [
    {
     "name": "stdout",
     "output_type": "stream",
     "text": [
      "Fail: classified negative case wrong\n",
      "\n",
      "Sorry to say that I cannot give this place more stars, but I have dined there many times and typically have been quite pleased. This last time was definitely a disappointment, as my chicken with pesto sauce was almost tasteless and the chicken had apparently no seasoning whatsoever; I've had better packaged frozen food!Perhaps the chef(?) was preoccupied with the large(20+) party in the adjoining room.....a poor excuse at best.....\n"
     ]
    }
   ],
   "source": [
    "test_case = data.sample(1)\n",
    "\n",
    "# Basically what we did in 02_featureEngineering.ipynb as we need to prepare the vector space features again\n",
    "def preprocess(text):\n",
    "    text = text.lower() # Convert to lowercase\n",
    "    text = ''.join([word for word in text if word not in string.punctuation]) # Remove punctuation\n",
    "    tokens = word_tokenize(text) # Splits string into a list of words (tokenizing)\n",
    "    tokens = [word for word in tokens if word not in stopwords] # Remove stopwords (common words in English)\n",
    "    return ' '.join(tokens) # Return full string\n",
    "\n",
    "X = test_case.review.apply(preprocess) # Apply for all reviews\n",
    "\n",
    "def vectorize(sentence):\n",
    "    words = sentence.split() # Split sentence into list of words\n",
    "    words_vecs = [w2v_mod.wv[word] for word in words if word in w2v_mod.wv] # Return word vectors \n",
    "    if len(words_vecs) == 0: \n",
    "        return np.zeros(100) # Vector space set to 100 Dimensions\n",
    "    words_vecs = np.array(words_vecs)\n",
    "    return words_vecs.mean(axis=0) # Return mean for each Dimension\n",
    "w = np.array([vectorize(sentence) for sentence in X]) # Vectorize each review\n",
    "\n",
    "new_X = w\n",
    "new_y = test_case.sentiment.values\n",
    "\n",
    "y_new_pred_rf = mod.predict(new_X) # Ready to predict on sample test case\n",
    "if y_new_pred_rf == new_y:\n",
    "    print(\"Classified \"+(\"positive\" if y_new_pred_rf is 1 else \"negative\")+\" case correctly!\\n\")\n",
    "    print(test_case.review.values[0])\n",
    "else:\n",
    "    print(\"Fail: classified \"+(\"positive\" if y_new_pred_rf is 1 else \"negative\")+\" case wrong\\n\")\n",
    "    print(test_case.review.values[0])"
   ],
   "metadata": {
    "collapsed": false,
    "ExecuteTime": {
     "end_time": "2024-05-04T21:43:46.117594900Z",
     "start_time": "2024-05-04T21:43:46.063807Z"
    }
   },
   "id": "f19ad44c32316a03",
   "execution_count": 48
  },
  {
   "cell_type": "code",
   "outputs": [
    {
     "name": "stdout",
     "output_type": "stream",
     "text": [
      "Predicted: [0]\n",
      "Actual: [1]\n"
     ]
    }
   ],
   "source": [
    "print(\"Predicted: \"+str(y_new_pred_rf)) # negative\n",
    "print(\"Actual: \"+str(new_y)) # positive ??"
   ],
   "metadata": {
    "collapsed": false,
    "ExecuteTime": {
     "end_time": "2024-05-04T21:43:46.117594900Z",
     "start_time": "2024-05-04T21:43:46.112456500Z"
    }
   },
   "id": "8846289d117debe9",
   "execution_count": 49
  },
  {
   "cell_type": "markdown",
   "source": [
    "## 2.) Get average values for final RF model"
   ],
   "metadata": {
    "collapsed": false
   },
   "id": "efc0bd33f28ddaff"
  },
  {
   "cell_type": "code",
   "outputs": [],
   "source": [
    "# Testing model on random sample from dataset\n",
    "\n",
    "def predictNonLinear(model, N=100):\n",
    "    test_case = data.sample(N)\n",
    "    \n",
    "    # Basically what we did in 02_featureEngineering.ipynb as we need to prepare the vector space features again\n",
    "    def preprocess(text):\n",
    "        text = text.lower() # Convert to lowercase\n",
    "        text = ''.join([word for word in text if word not in string.punctuation]) # Remove punctuation\n",
    "        tokens = word_tokenize(text) # Splits string into a list of words (tokenizing)\n",
    "        tokens = [word for word in tokens if word not in stopwords] # Remove stopwords (common words in English)\n",
    "        return ' '.join(tokens) # Return full string\n",
    "    \n",
    "    X = test_case.review.apply(preprocess) # Apply for all reviews\n",
    "    \n",
    "    def vectorize(sentence):\n",
    "        words = sentence.split() # Split sentence into list of words\n",
    "        words_vecs = [w2v_mod.wv[word] for word in words if word in w2v_mod.wv] # Return word vectors \n",
    "        if len(words_vecs) == 0: \n",
    "            return np.zeros(100) # Vector space set to 100 Dimensions\n",
    "        words_vecs = np.array(words_vecs)\n",
    "        return words_vecs.mean(axis=0) # Return mean for each Dimension\n",
    "    w = np.array([vectorize(sentence) for sentence in X]) # Vectorize each review\n",
    "    \n",
    "    new_X = w\n",
    "    new_y = test_case.sentiment.values\n",
    "    \n",
    "    y_new_pred_rf = mod.predict(new_X) # Predict samples\n",
    "    y_pred_report = classification_report(new_y,y_new_pred_rf, output_dict=True) # Output report as dictionary\n",
    "    \n",
    "    return (y_pred_report[\"0\"][\"precision\"],y_pred_report[\"0\"][\"recall\"],\n",
    "            y_pred_report[\"1\"][\"precision\"],y_pred_report[\"1\"][\"recall\"])"
   ],
   "metadata": {
    "collapsed": false,
    "ExecuteTime": {
     "end_time": "2024-05-04T21:49:14.552674700Z",
     "start_time": "2024-05-04T21:49:14.544558200Z"
    }
   },
   "id": "193387334d26a94c",
   "execution_count": 75
  },
  {
   "cell_type": "code",
   "outputs": [
    {
     "name": "stdout",
     "output_type": "stream",
     "text": [
      "Average Precision (0): 0.600794665982024; Average Recall (0): 0.9828618861266122\n",
      "Average Precision (1): 0.9905027534696815; Average Recall (1): 0.7423732223061903\n"
     ]
    }
   ],
   "source": [
    "# Get average values\n",
    "nums = 20\n",
    "avg_p0 = 0\n",
    "avg_r0 = 0\n",
    "avg_p1 = 0\n",
    "avg_r1 = 0\n",
    "for i in range(nums):\n",
    "    p0,r0,p1,r1 = predictNonLinear(mod, 150)\n",
    "    avg_p0 += p0\n",
    "    avg_r0 += r0\n",
    "    avg_p1 += p1\n",
    "    avg_r1 += r1\n",
    "\n",
    "avg_p0 = avg_p0/nums\n",
    "avg_r0 = avg_r0/nums\n",
    "avg_p1 = avg_p1/nums\n",
    "avg_r1 = avg_r1/nums\n",
    "print(\"Average Precision (0): \"+str(avg_p0)+\"; Average Recall (0): \"+str(avg_r0))\n",
    "print(\"Average Precision (1): \"+str(avg_p1)+\"; Average Recall (1): \"+str(avg_r1))"
   ],
   "metadata": {
    "collapsed": false,
    "ExecuteTime": {
     "end_time": "2024-05-04T21:49:17.847246600Z",
     "start_time": "2024-05-04T21:49:14.784625400Z"
    }
   },
   "id": "b1f3bf6e83b22a6f",
   "execution_count": 76
  },
  {
   "cell_type": "code",
   "outputs": [],
   "source": [
    "# Save table of results\n",
    "index = [\"RF - Final Model\"]\n",
    "columns =  [\"Precision - 0\",\"Recall - 0\",\"Precision - 1\",\"Recall - 1\"]\n",
    "result = pd.DataFrame([[avg_p0,avg_r0,avg_p1,avg_r1]], index, columns)\n",
    "dfi.export(result.T.style,'../Results/05_finalAverageScores.png')"
   ],
   "metadata": {
    "collapsed": false,
    "ExecuteTime": {
     "end_time": "2024-05-04T21:53:08.471658100Z",
     "start_time": "2024-05-04T21:53:06.805369200Z"
    }
   },
   "id": "14c39f890f13d7c9",
   "execution_count": 80
  }
 ],
 "metadata": {
  "kernelspec": {
   "display_name": "Python 3",
   "language": "python",
   "name": "python3"
  },
  "language_info": {
   "codemirror_mode": {
    "name": "ipython",
    "version": 2
   },
   "file_extension": ".py",
   "mimetype": "text/x-python",
   "name": "python",
   "nbconvert_exporter": "python",
   "pygments_lexer": "ipython2",
   "version": "2.7.6"
  }
 },
 "nbformat": 4,
 "nbformat_minor": 5
}
