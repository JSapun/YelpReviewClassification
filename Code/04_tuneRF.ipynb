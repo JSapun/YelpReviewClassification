{
 "cells": [
  {
   "cell_type": "markdown",
   "source": [
    "# This file tunes the final Random Forest Model"
   ],
   "metadata": {
    "collapsed": false
   },
   "id": "7c542b6d5ea35e44"
  },
  {
   "cell_type": "code",
   "execution_count": 485,
   "id": "initial_id",
   "metadata": {
    "collapsed": true,
    "ExecuteTime": {
     "end_time": "2024-05-03T03:31:50.064653100Z",
     "start_time": "2024-05-03T03:31:49.997101800Z"
    }
   },
   "outputs": [],
   "source": [
    "import pandas as pd\n",
    "import numpy as np\n",
    "import joblib\n",
    "from sklearn.ensemble import RandomForestClassifier\n",
    "from sklearn.metrics import classification_report\n",
    "from sklearn_evaluation import plot\n",
    "from matplotlib import pyplot as plt\n",
    "\n",
    "from IPython.core.interactiveshell import InteractiveShell \n",
    "InteractiveShell.ast_node_interactivity = \"all\"\n",
    "import warnings\n",
    "warnings.filterwarnings('ignore')\n",
    "\n",
    "w = pd.read_csv(\"../Data/vectorizedWords.csv\").to_numpy()\n",
    "df = pd.read_csv(\"../Data/2.5k_reviews.csv\")"
   ]
  },
  {
   "cell_type": "markdown",
   "source": [
    "## 1.) Put Vectorized features into df as it was saved separately"
   ],
   "metadata": {
    "collapsed": false
   },
   "id": "e51e20220f73042"
  },
  {
   "cell_type": "code",
   "outputs": [],
   "source": [
    "df[\"vectorization\"] = [i for i in w]"
   ],
   "metadata": {
    "collapsed": false,
    "ExecuteTime": {
     "end_time": "2024-05-03T03:31:50.459309700Z",
     "start_time": "2024-05-03T03:31:50.453348500Z"
    }
   },
   "id": "acd62b5f5ee33876",
   "execution_count": 486
  },
  {
   "cell_type": "markdown",
   "source": [
    "## 2.) Undersample as data is unbalanced, ratio is approximately 10:8 for negative:positive"
   ],
   "metadata": {
    "collapsed": false
   },
   "id": "2d9db3e251bb5b99"
  },
  {
   "cell_type": "code",
   "outputs": [
    {
     "name": "stdout",
     "output_type": "stream",
     "text": [
      "Number of negative reviews: 701; Number of positive reviews: 561\n"
     ]
    }
   ],
   "source": [
    "num0s = df.sentiment.value_counts()[0] # Get number of 0s (negative reviews)\n",
    "subset_index = df[df.sentiment == 1].sample(int(df.shape[0] - num0s*1.8)).index # Obtain positive reviews indexes to be dropped\n",
    "subset = df.drop(subset_index).reset_index(drop=True) # Drop extra positive reviews for undersampling\n",
    "print(\"Number of negative reviews: \"+str(len(subset)-subset.sentiment.sum())+\"; Number of positive reviews: \"+str(subset.sentiment.sum()))"
   ],
   "metadata": {
    "collapsed": false,
    "ExecuteTime": {
     "end_time": "2024-05-03T04:15:08.693269800Z",
     "start_time": "2024-05-03T04:15:08.682406200Z"
    }
   },
   "id": "b2ec00d0bcd3e518",
   "execution_count": 663
  },
  {
   "cell_type": "markdown",
   "source": [
    "## 3.) Train and run best Random Forest Classifier Model"
   ],
   "metadata": {
    "collapsed": false
   },
   "id": "6939e1beeda6f80a"
  },
  {
   "cell_type": "code",
   "outputs": [],
   "source": [
    "y = subset.sentiment.values\n",
    "X = subset.vectorization.values\n",
    "X_train = np.stack(X, axis=0) # Expand the array for model"
   ],
   "metadata": {
    "collapsed": false
   },
   "id": "d67a11dffcc561b"
  },
  {
   "cell_type": "code",
   "outputs": [
    {
     "name": "stdout",
     "output_type": "stream",
     "text": [
      "              precision    recall  f1-score   support\n",
      "\n",
      "           0       0.97      0.98      0.98       701\n",
      "           1       0.98      0.96      0.97       561\n",
      "\n",
      "    accuracy                           0.97      1262\n",
      "   macro avg       0.97      0.97      0.97      1262\n",
      "weighted avg       0.97      0.97      0.97      1262\n"
     ]
    }
   ],
   "source": [
    "# Initialize RF model with 500 trees, a max depth of 10 (not too much as it will overfit) and max_feature of 2. Other parameters were tested to find the best ones.\n",
    "pipeline_rf = RandomForestClassifier(oob_score=True,n_estimators=500,max_depth=10,max_features=2,criterion='entropy',n_jobs=-1)\n",
    "pipeline_rf = pipeline_rf.fit(X_train, y)\n",
    "y_pred_train_rf = pipeline_rf.predict(X_train)\n",
    "\n",
    "# Reported average results will be shown in 05_testPKL.ipynb\n",
    "print(classification_report(y,y_pred_train_rf))"
   ],
   "metadata": {
    "collapsed": false,
    "ExecuteTime": {
     "end_time": "2024-05-03T04:16:29.268230600Z",
     "start_time": "2024-05-03T04:16:28.339862Z"
    }
   },
   "id": "d6e5d2e3b5905695",
   "execution_count": 678
  },
  {
   "cell_type": "code",
   "outputs": [
    {
     "data": {
      "text/plain": "['best_model.pkl']"
     },
     "execution_count": 685,
     "metadata": {},
     "output_type": "execute_result"
    }
   ],
   "source": [
    "joblib.dump(pipeline_rf,'../Data/best_model.pkl') # Save model as pkl file"
   ],
   "metadata": {
    "collapsed": false,
    "ExecuteTime": {
     "end_time": "2024-05-03T04:17:02.504950400Z",
     "start_time": "2024-05-03T04:17:02.402328700Z"
    }
   },
   "id": "56ba342f451b17ae",
   "execution_count": 685
  },
  {
   "cell_type": "markdown",
   "source": [
    "## 4.) Test model on 100 N sample from entire dataset "
   ],
   "metadata": {
    "collapsed": false
   },
   "id": "656c7390804b2b63"
  },
  {
   "cell_type": "code",
   "outputs": [
    {
     "name": "stdout",
     "output_type": "stream",
     "text": [
      "              precision    recall  f1-score   support\n",
      "\n",
      "           0       0.58      0.97      0.73        29\n",
      "           1       0.98      0.72      0.83        71\n",
      "\n",
      "    accuracy                           0.79       100\n",
      "   macro avg       0.78      0.84      0.78       100\n",
      "weighted avg       0.87      0.79      0.80       100\n",
      "\n",
      "0.79\n"
     ]
    }
   ],
   "source": [
    "test_case = df.sample(100, random_state=1)\n",
    "y_mod = test_case.sentiment.values\n",
    "X_mod = test_case.vectorization.values\n",
    "X_mod = np.stack(X_mod, axis=0) # Expand the array for model\n",
    "y_pred_mod = pipeline_rf.predict(X_mod)\n",
    "print(classification_report(y_mod,y_pred_mod))"
   ],
   "metadata": {
    "collapsed": false,
    "ExecuteTime": {
     "end_time": "2024-05-03T13:58:01.684862100Z",
     "start_time": "2024-05-03T13:58:01.403253500Z"
    }
   },
   "id": "78a2c3b8f9a50584",
   "execution_count": 739
  },
  {
   "cell_type": "markdown",
   "source": [
    "## 5.) Visualize results for 100N test using ROC curve"
   ],
   "metadata": {
    "collapsed": false
   },
   "id": "95c88847ca9a6458"
  },
  {
   "cell_type": "code",
   "outputs": [
    {
     "data": {
      "text/plain": "<Figure size 640x480 with 1 Axes>",
      "image/png": "[encoded data removed]"
     },
     "metadata": {},
     "output_type": "display_data"
    }
   ],
   "source": [
    "y_score = pipeline_rf.predict_proba(X_mod) # Predict estimates for all classes\n",
    "roc = plot.ROC.from_raw_data(y_mod, y_score) # Using sklearn ROC plot function\n",
    "plt.savefig('../Results/04_ROC.png'); # Save fig"
   ],
   "metadata": {
    "collapsed": false,
    "ExecuteTime": {
     "end_time": "2024-05-03T08:00:14.351974800Z",
     "start_time": "2024-05-03T08:00:13.880336500Z"
    }
   },
   "id": "20440b82dc1b8335",
   "execution_count": 738
  }
 ],
 "metadata": {
  "kernelspec": {
   "display_name": "Python 3",
   "language": "python",
   "name": "python3"
  },
  "language_info": {
   "codemirror_mode": {
    "name": "ipython",
    "version": 2
   },
   "file_extension": ".py",
   "mimetype": "text/x-python",
   "name": "python",
   "nbconvert_exporter": "python",
   "pygments_lexer": "ipython2",
   "version": "2.7.6"
  }
 },
 "nbformat": 4,
 "nbformat_minor": 5
}
