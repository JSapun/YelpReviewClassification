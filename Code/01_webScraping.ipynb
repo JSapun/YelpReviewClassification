{
 "cells": [
  {
   "cell_type": "markdown",
   "source": [
    "# This file web scrapes reviews and ratings from Yelp.com "
   ],
   "metadata": {
    "collapsed": false
   },
   "id": "e3320cd4bc79d2e3"
  },
  {
   "cell_type": "code",
   "execution_count": 1,
   "id": "initial_id",
   "metadata": {
    "collapsed": true,
    "ExecuteTime": {
     "end_time": "2024-05-05T00:37:18.894980Z",
     "start_time": "2024-05-05T00:37:17.092668500Z"
    }
   },
   "outputs": [],
   "source": [
    "import json\n",
    "import httpx\n",
    "from parsel import Selector\n",
    "import pandas as pd\n",
    "from tqdm import tqdm\n",
    "from bs4 import BeautifulSoup\n",
    "import re\n",
    "import dataframe_image as dfi\n",
    "\n",
    "from IPython.core.interactiveshell import InteractiveShell \n",
    "InteractiveShell.ast_node_interactivity = \"all\"\n",
    "import warnings\n",
    "warnings.filterwarnings('ignore')"
   ]
  },
  {
   "cell_type": "markdown",
   "source": [
    "## 1.) Function Setup for Scraping"
   ],
   "metadata": {
    "collapsed": false
   },
   "id": "22371b7c3e14b20d"
  },
  {
   "cell_type": "code",
   "outputs": [],
   "source": [
    "def review_and_ratings(url):\n",
    "    \"\"\"\n",
    "    This function takes in a url and finds all the reviews and ratings html using XPath selectors. Yelp only shows 11 reviews per page, so this function can only return 11 (review,rating) tuples at a time. Return is a tuple of lists.\n",
    "    \"\"\"\n",
    "    # traverse url and obtain metadata from sold individual listing \n",
    "    with httpx.Client(http2=True, follow_redirects=True) as client:\n",
    "        resp = client.get(url)\n",
    "    sel = Selector(text=resp.text)\n",
    "    \n",
    "    # Parse metadata using the two XPath selectors for reviews and ratings\n",
    "    selected_reviews = sel.xpath(r'//span[@class=\" raw__09f24__T4Ezm\"]').getall()\n",
    "    selected_ratings = sel.xpath(r'//div[@class=\"yelp-emotion-9tnml4\"]').getall() # Changed from css-14g69b3 -- 05/02/2024\n",
    "    \n",
    "    selected_reviews = selected_reviews[4:] # Get 11 reviews per page\n",
    "    new_len = len(selected_reviews)\n",
    "    selected_ratings = selected_ratings[2:new_len+2]\n",
    "    return selected_reviews, selected_ratings"
   ],
   "metadata": {
    "collapsed": false,
    "ExecuteTime": {
     "end_time": "2024-04-02T04:47:29.532020400Z",
     "start_time": "2024-04-02T04:47:29.522709900Z"
    }
   },
   "id": "42a1fe5cbd3eb810",
   "execution_count": 253
  },
  {
   "cell_type": "code",
   "outputs": [],
   "source": [
    "def get_all_biz(url, stop):\n",
    "    \"\"\"\n",
    "    This function gets all the reviews and ratings html from a restaurant given a specific restaurant url. It iterates through multiple pages until there are no more reviews as Yelp only shows 11 reviews per page. The stop parameter is the last page. Return is a tuple of lists.\n",
    "    \"\"\"\n",
    "    reviews = []\n",
    "    ratings = []\n",
    "    # I assume as another tactic by yelp to make scraping trickier, they have implemented page indexes in multiple of 10.\n",
    "    for i in range(0,stop*10,10): \n",
    "        rev,rat = review_and_ratings(url+str(i))\n",
    "        reviews += rev\n",
    "        ratings += rat\n",
    "    return reviews, ratings"
   ],
   "metadata": {
    "collapsed": false,
    "ExecuteTime": {
     "end_time": "2024-04-02T05:07:03.168309900Z",
     "start_time": "2024-04-02T05:07:03.145301300Z"
    }
   },
   "id": "c476d4d5614e1518",
   "execution_count": 269
  },
  {
   "cell_type": "markdown",
   "source": [
    "## 2.) Test to retrieve all reviews for two pages for GB Eats in Great Barrington"
   ],
   "metadata": {
    "collapsed": false
   },
   "id": "717d355c849a68c8"
  },
  {
   "cell_type": "code",
   "outputs": [
    {
     "name": "stderr",
     "output_type": "stream",
     "text": [
      "100%|██████████| 5/5 [00:16<00:00,  3.21s/it]\n"
     ]
    }
   ],
   "source": [
    "# Test for GB eats\n",
    "rev,rat = get_all_biz(\"https://www.yelp.com/biz/gb-eats-great-barrington?start=\", 2)"
   ],
   "metadata": {
    "collapsed": false,
    "ExecuteTime": {
     "end_time": "2024-04-02T04:48:04.813391400Z",
     "start_time": "2024-04-02T04:47:48.734295900Z"
    }
   },
   "id": "b2952c19f1ff51e4",
   "execution_count": 256
  },
  {
   "cell_type": "markdown",
   "source": [
    "## 3.) Create list of popular restaurants urls in Great Barrington with stop page numbers "
   ],
   "metadata": {
    "collapsed": false
   },
   "id": "9dd44220041ac2e0"
  },
  {
   "cell_type": "code",
   "outputs": [],
   "source": [
    "# Goal is 7000, aprx 2.5k\n",
    "# Note starter urls have a specific \"?start=\" at the end of the business url, important for indexing later pages\n",
    "starter_urls = [(\"https://www.yelp.com/biz/gb-eats-great-barrington?start=\", 17),\n",
    "                (\"https://www.yelp.com/biz/baba-louies-sourdough-pizza-great-barrington-3?start=\", 35),\n",
    "                (\"https://www.yelp.com/biz/soco-creamery-great-barrington?start=\", 19),\n",
    "                (\"https://www.yelp.com/biz/rio-cafe-great-barrington?start=\", 7),\n",
    "                (\"https://www.yelp.com/biz/prairie-whale-great-barrington?osq=Restaurants&start=\", 35),\n",
    "                (\"https://www.yelp.com/biz/the-well-great-barrington?osq=Restaurants&start=\", 11),\n",
    "                (\"https://www.yelp.com/biz/aegean-breeze-restaurant-great-barrington-2?osq=Restaurants&start=\", 20),\n",
    "                (\"https://www.yelp.com/biz/the-bistro-box-great-barrington?osq=Restaurants&start=\", 18),\n",
    "                (\"https://www.yelp.com/biz/marketplace-kitchen-table-great-barrington?osq=Restaurants&start=\", 11),\n",
    "                (\"https://www.yelp.com/biz/barrington-brewery-and-restaurant-great-barrington?osq=Restaurants&start=\", 39),\n",
    "                (\"https://www.yelp.com/biz/xicohtencatl-great-barrington?osq=Restaurants&start=\", 29),\n",
    "                (\"https://www.yelp.com/biz/pleasant-and-main-housatonic?osq=Restaurants&start=\", 21)]"
   ],
   "metadata": {
    "collapsed": false,
    "ExecuteTime": {
     "end_time": "2024-04-02T05:01:26.810305900Z",
     "start_time": "2024-04-02T05:01:26.802548400Z"
    }
   },
   "id": "acbe5e4748cb5dc4",
   "execution_count": 260
  },
  {
   "cell_type": "markdown",
   "source": [
    "## 4.) Finally retrieve 2.5k reviews and ratings from 12 restaurants in Great Barrington"
   ],
   "metadata": {
    "collapsed": false
   },
   "id": "6305ea4814dcdf9f"
  },
  {
   "cell_type": "code",
   "outputs": [],
   "source": [
    "def get_all(urls=starter_urls):\n",
    "    \"\"\"\n",
    "    This function gets all reviews and ratings html using the starter_urls as an input. Returns a tuple of lists.\n",
    "    \"\"\"\n",
    "    reviews = []\n",
    "    ratings = []\n",
    "    for item in tqdm(urls):\n",
    "        url,stop = item\n",
    "        try: # Error logging in beginning stages\n",
    "            rev,rat = get_all_biz(url, stop) # Get all reviews for a buisness\n",
    "        except:\n",
    "            print(\"Failed at: \"+url)\n",
    "            return reviews, ratings\n",
    "        if len(rev) != len(rat):\n",
    "            print(\"Error!!!\")\n",
    "            exit()\n",
    "        reviews += rev\n",
    "        ratings += rat\n",
    "    return reviews, ratings # All reviews for a list of urls"
   ],
   "metadata": {
    "collapsed": false,
    "ExecuteTime": {
     "end_time": "2024-04-02T05:07:04.839948300Z",
     "start_time": "2024-04-02T05:07:04.834945400Z"
    }
   },
   "id": "1d0c22c0d63cb4a8",
   "execution_count": 270
  },
  {
   "cell_type": "code",
   "outputs": [
    {
     "name": "stderr",
     "output_type": "stream",
     "text": [
      "100%|██████████| 12/12 [12:46<00:00, 63.92s/it]\n"
     ]
    }
   ],
   "source": [
    "rev,rat = get_all()"
   ],
   "metadata": {
    "collapsed": false,
    "ExecuteTime": {
     "end_time": "2024-04-02T05:20:27.732501400Z",
     "start_time": "2024-04-02T05:07:40.727480200Z"
    }
   },
   "id": "888cd95dd8b7c472",
   "execution_count": 272
  },
  {
   "cell_type": "markdown",
   "source": [
    "## 5.) Function setup to parse html and extract reviews and ratings from html components"
   ],
   "metadata": {
    "collapsed": false
   },
   "id": "609a82649549aafd"
  },
  {
   "cell_type": "code",
   "outputs": [],
   "source": [
    "def extract_text_from_html(html_string):\n",
    "    \"\"\"\n",
    "    This function uses BeautifulSoup to parse the html string and obtain the review as a string \n",
    "    \"\"\"\n",
    "    soup = BeautifulSoup(html_string, 'html.parser') # Initialize BeautifulSoup\n",
    "    text = soup.text.strip() # Find <p> tag and return it\n",
    "    return text\n",
    "\n",
    "def extract_rating_from_html(html_string):\n",
    "    \"\"\"\n",
    "    This function uses regex to pull the float value for number of stars for each review.\n",
    "    \"\"\"\n",
    "    rating_regex = r'aria-label=\"(\\d+(?:\\.\\d+)?)\\sstar\\srating\"' # Regex to get float number of stars\n",
    "    text = re.findall(rating_regex, html_string) # Findall all cases (only 1)\n",
    "    return text"
   ],
   "metadata": {
    "collapsed": false,
    "ExecuteTime": {
     "end_time": "2024-04-02T05:45:20.112710400Z",
     "start_time": "2024-04-02T05:45:20.101380200Z"
    }
   },
   "id": "130c6f74ed2891d2",
   "execution_count": 308
  },
  {
   "cell_type": "markdown",
   "source": [
    "## 6.) Iterate through scraped data to extract ratings and reviews and perform manual classification\n",
    "##### Manual Classification is performed by labeling a review as:\n",
    "* ##### positive if the number of stars > 3\n",
    "* ##### negative if the number of stars <= 3"
   ],
   "metadata": {
    "collapsed": false
   },
   "id": "f6c02588bb7c7521"
  },
  {
   "cell_type": "code",
   "outputs": [],
   "source": [
    "reviews = []\n",
    "ratings = []\n",
    "sentiment = []\n",
    "for i in range(len(rev)):\n",
    "    star = extract_rating_from_html(rat[i]) # Get number of stars (float)\n",
    "    if star is not None: # Some reviews don't have stars (disguised as business owner response, same XPath)\n",
    "        reviews.append(extract_text_from_html(rev[i])) \n",
    "        ratings.append(float(star[0]))\n",
    "        if float(star[0]) > 3.0: # Manual Classification\n",
    "            sentiment.append(1)\n",
    "        else:\n",
    "            sentiment.append(0)\n",
    "save_df = pd.DataFrame(data={'review': reviews, 'rating': ratings, 'sentiment': sentiment}) # 1 for positive, 0 for negative"
   ],
   "metadata": {
    "collapsed": false,
    "ExecuteTime": {
     "end_time": "2024-04-02T05:54:20.565688800Z",
     "start_time": "2024-04-02T05:54:20.411656Z"
    }
   },
   "id": "8a343ed734bc633f",
   "execution_count": 321
  },
  {
   "cell_type": "markdown",
   "source": [
    "## 7.) Save dataset and its unbalanced labels"
   ],
   "metadata": {
    "collapsed": false
   },
   "id": "940ba789dedcad20"
  },
  {
   "cell_type": "code",
   "outputs": [
    {
     "data": {
      "text/plain": "positive    1876\nnegative     701\nName: count, dtype: int64"
     },
     "execution_count": 26,
     "metadata": {},
     "output_type": "execute_result"
    }
   ],
   "source": [
    "grouped = save_df.sentiment.value_counts()\n",
    "grouped.index = [\"positive\", \"negative\"]\n",
    "grouped\n",
    "dfi.export(pd.DataFrame(grouped).style,'../Results/01_table_review_imbalance.png')"
   ],
   "metadata": {
    "collapsed": false,
    "ExecuteTime": {
     "end_time": "2024-05-05T00:41:36.774453800Z",
     "start_time": "2024-05-05T00:41:35.170655900Z"
    }
   },
   "id": "613b266067952c37",
   "execution_count": 26
  },
  {
   "cell_type": "code",
   "outputs": [],
   "source": [
    "save_df.to_csv(\"../Data/2.5k_reviews.csv\", index=False) # Save CSV"
   ],
   "metadata": {
    "collapsed": false,
    "ExecuteTime": {
     "end_time": "2024-04-02T05:54:23.385535400Z",
     "start_time": "2024-04-02T05:54:23.349693800Z"
    }
   },
   "id": "c60452ecdb58f4de",
   "execution_count": 323
  }
 ],
 "metadata": {
  "kernelspec": {
   "display_name": "Python 3",
   "language": "python",
   "name": "python3"
  },
  "language_info": {
   "codemirror_mode": {
    "name": "ipython",
    "version": 2
   },
   "file_extension": ".py",
   "mimetype": "text/x-python",
   "name": "python",
   "nbconvert_exporter": "python",
   "pygments_lexer": "ipython2",
   "version": "2.7.6"
  }
 },
 "nbformat": 4,
 "nbformat_minor": 5
}
